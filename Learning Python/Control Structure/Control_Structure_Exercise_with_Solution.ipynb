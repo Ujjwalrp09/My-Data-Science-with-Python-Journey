{
 "cells": [
  {
   "cell_type": "markdown",
   "id": "6b3df9e6",
   "metadata": {},
   "source": [
    "# Exercise: Grade Calculator\n",
    "\n",
    "Write a program that asks the user to enter the marks for three subjects: Math, Science, and English. The program should calculate the average mark and determine the corresponding grade based on the following grading scale:\n",
    "\n",
    "- Average Mark >= 90: Grade A\n",
    "- Average Mark >= 80: Grade B\n",
    "- Average Mark >= 70: Grade C\n",
    "- Average Mark >= 60: Grade D\n",
    "- Average Mark < 60: Grade F\n",
    "\n",
    "The program should then display the average mark and the corresponding grade to the user."
   ]
  },
  {
   "cell_type": "code",
   "execution_count": 25,
   "id": "4172f3d5",
   "metadata": {},
   "outputs": [
    {
     "name": "stdout",
     "output_type": "stream",
     "text": [
      "Enter the obtained marks in math:99\n",
      "Enter the obtained marks in science:89\n",
      "Enter the obtained marks in english:79\n",
      "Average: 89.0\n",
      "grade: B\n",
      "End of grading.\n"
     ]
    }
   ],
   "source": [
    "Math = int(input(\"Enter the obtained marks in math:\"))\n",
    "Science = int(input(\"Enter the obtained marks in science:\"))\n",
    "English = int(input(\"Enter the obtained marks in english:\")) #we input integer value for the 3 designated subjects.\n",
    "\n",
    "Average = (Math + Science + English) / 3 #average of 3 subjects is calculated using this formula.\n",
    "\n",
    "if Average >= 90: #if else statement is used for grading purpose as per given grading scheme.\n",
    "    grade = \"A\"\n",
    "elif Average >= 80:\n",
    "    grade = \"B\"\n",
    "elif Average >= 70:\n",
    "    grade = \"C\"\n",
    "elif Average >= 60:\n",
    "    grade = \"D\"\n",
    "else:\n",
    "    grade = \"F\"  \n",
    "\n",
    "print(\"Average:\", Average) #the average is displayed over here.\n",
    "print(\"grade:\", grade) #the obtained grade is sisplayed over here.\n",
    "print(\"End of grading.\")"
   ]
  },
  {
   "cell_type": "code",
   "execution_count": null,
   "id": "9ac7ce5e",
   "metadata": {},
   "outputs": [],
   "source": []
  }
 ],
 "metadata": {
  "kernelspec": {
   "display_name": "Python 3 (ipykernel)",
   "language": "python",
   "name": "python3"
  },
  "language_info": {
   "codemirror_mode": {
    "name": "ipython",
    "version": 3
   },
   "file_extension": ".py",
   "mimetype": "text/x-python",
   "name": "python",
   "nbconvert_exporter": "python",
   "pygments_lexer": "ipython3",
   "version": "3.11.7"
  }
 },
 "nbformat": 4,
 "nbformat_minor": 5
}
