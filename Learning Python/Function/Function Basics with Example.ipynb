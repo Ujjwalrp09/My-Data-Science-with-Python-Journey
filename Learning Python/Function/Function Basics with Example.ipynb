{
 "cells": [
  {
   "cell_type": "markdown",
   "id": "a63234cc",
   "metadata": {},
   "source": [
    "![img](https://ytu-cvlab.github.io/mce-51069/images/copied_from_nb/images/function.jpeg)"
   ]
  },
  {
   "cell_type": "markdown",
   "id": "0f0c84d1",
   "metadata": {},
   "source": [
    "# What is the Syntax of user-defined function?"
   ]
  },
  {
   "cell_type": "code",
   "execution_count": 4,
   "id": "5c7664de",
   "metadata": {},
   "outputs": [],
   "source": [
    "def function_name(parameter):  #creating a function name\n",
    "\n",
    "function_name()   #calling a function\n",
    "\n",
    "\n",
    "\n",
    "\n",
    "\n"
   ]
  },
  {
   "cell_type": "markdown",
   "id": "95a82df7",
   "metadata": {},
   "source": [
    "# Task 1: Define a Function"
   ]
  },
  {
   "cell_type": "code",
   "execution_count": null,
   "id": "102b3ecb",
   "metadata": {},
   "outputs": [],
   "source": [
    "# Define a function called `greet` that takes a single parameter `name`.\n",
    "# The purpose of this function is to print a greeting message that says \"Hello, [name]!\".\n",
    "# For example, calling greet(\"Alice\") should output \"Hello, Alice!\"."
   ]
  },
  {
   "cell_type": "code",
   "execution_count": 23,
   "id": "902c8d46",
   "metadata": {},
   "outputs": [
    {
     "name": "stdout",
     "output_type": "stream",
     "text": [
      "Hello, Alice!\n"
     ]
    }
   ],
   "source": [
    "def greet(name):\n",
    "    print(f\"Hello, {name}!\")\n",
    "    \n",
    "    \n",
    "greet(\"Alice\")\n",
    "\n",
    "\n",
    "\n"
   ]
  },
  {
   "cell_type": "markdown",
   "id": "691a4aa0",
   "metadata": {},
   "source": [
    "# Task 2: Call the Function"
   ]
  },
  {
   "cell_type": "code",
   "execution_count": 1,
   "id": "8db69a6b",
   "metadata": {},
   "outputs": [],
   "source": [
    "# After defining the function, call it with different names to see the output.\n",
    "# You should call the function at least three times with different names"
   ]
  },
  {
   "cell_type": "code",
   "execution_count": 24,
   "id": "4dcb10ba",
   "metadata": {},
   "outputs": [
    {
     "name": "stdout",
     "output_type": "stream",
     "text": [
      "Hello, Alice!\n",
      "Hello, Ujjwal!\n",
      "Hello, Ram!\n",
      "Hello, Shyam!\n"
     ]
    }
   ],
   "source": [
    "greet(\"Alice\")\n",
    "greet(\"Ujjwal\")\n",
    "greet(\"Ram\")\n",
    "greet(\"Shyam\")\n",
    "\n",
    "\n",
    "\n",
    "\n",
    "\n",
    "\n",
    "\n"
   ]
  },
  {
   "cell_type": "markdown",
   "id": "ba477a96",
   "metadata": {},
   "source": [
    "# Task 3: Experiment with Different Inputs"
   ]
  },
  {
   "cell_type": "code",
   "execution_count": 3,
   "id": "2f3d4ca0",
   "metadata": {},
   "outputs": [],
   "source": [
    "# Try calling the `greet` function with different types of inputs: \n",
    "# and observe and note down what happens with each type of input.\n",
    "\n",
    "\n",
    "# - A string with a different name (e.g., greet(\"Dave\"))\n",
    "\n",
    "\n",
    "\n",
    "# - An empty string (e.g., greet(\"\"))\n",
    "\n",
    "\n",
    "\n",
    "# - A string with special characters (e.g., greet(\"!@#\"))\n",
    "\n",
    "\n",
    "# - A non-string input (e.g., greet(123))\n",
    "\n",
    "\n"
   ]
  },
  {
   "cell_type": "code",
   "execution_count": 25,
   "id": "18c979a9",
   "metadata": {},
   "outputs": [
    {
     "name": "stdout",
     "output_type": "stream",
     "text": [
      "Hello, Dave!\n"
     ]
    }
   ],
   "source": [
    "# Try calling the `greet` function with different types of inputs: \n",
    "# and observe and note down what happens with each type of input.\n",
    "\n",
    "\n",
    "# - A string with a different name (e.g., greet(\"Dave\"))\n",
    "\n",
    "greet(\"Dave\")        #Here parameter \"name\" is assigned with value \"Dave\" as an argument and we can see the resultant output as Hello,Dave! where a parameter is assigned with a value Dave and printed as shown below."
   ]
  },
  {
   "cell_type": "code",
   "execution_count": 26,
   "id": "c3fb7b94",
   "metadata": {},
   "outputs": [
    {
     "name": "stdout",
     "output_type": "stream",
     "text": [
      "Hello, !\n"
     ]
    }
   ],
   "source": [
    "# Try calling the `greet` function with different types of inputs: \n",
    "# and observe and note down what happens with each type of input.\n",
    "\n",
    "# - An empty string (e.g., greet(\"\"))\n",
    "\n",
    "greet(\"\")  # Here, parameter is assigned as a null(space) string so we get a space as an output."
   ]
  },
  {
   "cell_type": "code",
   "execution_count": 27,
   "id": "70bd72e1",
   "metadata": {},
   "outputs": [
    {
     "name": "stdout",
     "output_type": "stream",
     "text": [
      "Hello, !@#!\n"
     ]
    }
   ],
   "source": [
    "# Try calling the `greet` function with different types of inputs: \n",
    "# and observe and note down what happens with each type of input.\n",
    "\n",
    "# - A string with special characters (e.g., greet(\"!@#\"))\n",
    "\n",
    "greet(\"!@#\") # Here the \"\"!@#\"\" is assigned as an input for the parameter and printed as shown."
   ]
  },
  {
   "cell_type": "code",
   "execution_count": 28,
   "id": "8a1fe3d5",
   "metadata": {},
   "outputs": [
    {
     "name": "stdout",
     "output_type": "stream",
     "text": [
      "Hello, 123!\n"
     ]
    }
   ],
   "source": [
    "# Try calling the `greet` function with different types of inputs: \n",
    "# and observe and note down what happens with each type of input.\n",
    "\n",
    "# - A non-string input (e.g., greet(123))\n",
    "\n",
    "greet(123)  # Here the \"\"123\"\" is assigned as an input for the parameter and printed as shown. Here, number is converted into string."
   ]
  },
  {
   "cell_type": "markdown",
   "id": "760f2010",
   "metadata": {},
   "source": [
    "# Write down your observations on how the `greet` function behaves with different inputs.\n",
    "\n",
    "# and write in paragraph about what you undestood about function"
   ]
  },
  {
   "cell_type": "code",
   "execution_count": null,
   "id": "f773705e",
   "metadata": {},
   "outputs": [],
   "source": [
    "Here, we can see greet() function_name takes a input and return or print a output message. It links input with the output message. Here also we can see various output messages as per our input.\n",
    "\n",
    "Function is a reusable chunk of codes. With function, we need not to repeat a code always. We can simplify the code into meaningful blocks for reusability, organization and simplicity."
   ]
  }
 ],
 "metadata": {
  "kernelspec": {
   "display_name": "Python 3 (ipykernel)",
   "language": "python",
   "name": "python3"
  },
  "language_info": {
   "codemirror_mode": {
    "name": "ipython",
    "version": 3
   },
   "file_extension": ".py",
   "mimetype": "text/x-python",
   "name": "python",
   "nbconvert_exporter": "python",
   "pygments_lexer": "ipython3",
   "version": "3.11.7"
  }
 },
 "nbformat": 4,
 "nbformat_minor": 5
}
