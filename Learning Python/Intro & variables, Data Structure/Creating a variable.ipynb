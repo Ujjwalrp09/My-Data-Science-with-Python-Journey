{
 "cells": [
  {
   "cell_type": "markdown",
   "id": "ad6f2d67",
   "metadata": {},
   "source": [
    "## A variable is a reserved memory area (memory address) to store value. \n",
    "\n",
    "* For example, we want to store an employee’s salary. In such a case, we can create a variable and store salary using it. Using that variable name, you can read or modify the salary amount.\n",
    "`\n",
    "\n",
    "# In this complete the task as per the instruction\n",
    "\n",
    "For example. \n"
   ]
  },
  {
   "cell_type": "code",
   "execution_count": 8,
   "id": "4e566806",
   "metadata": {},
   "outputs": [],
   "source": [
    "# Define a variable named salary and assign a value to it\n",
    "\n",
    "salary = 100\n"
   ]
  },
  {
   "cell_type": "code",
   "execution_count": 3,
   "id": "a471c487",
   "metadata": {},
   "outputs": [
    {
     "name": "stdout",
     "output_type": "stream",
     "text": [
      "0\n"
     ]
    }
   ],
   "source": [
    "# find the reminder of the number 40 divided by 10 [use modulus]\n",
    "\n",
    "a=10\n",
    "b=40\n",
    "c= b % a\n",
    "print(c)"
   ]
  },
  {
   "cell_type": "code",
   "execution_count": 5,
   "id": "233228b4",
   "metadata": {},
   "outputs": [
    {
     "name": "stdout",
     "output_type": "stream",
     "text": [
      "43\n"
     ]
    }
   ],
   "source": [
    "# Find the sum of 6, 8, 10,19 \n",
    "d=6\n",
    "e=8\n",
    "f=10\n",
    "g=19\n",
    "sum=d+e+f+g\n",
    "print(sum)"
   ]
  },
  {
   "cell_type": "code",
   "execution_count": 6,
   "id": "b87f7ad9",
   "metadata": {},
   "outputs": [
    {
     "name": "stdout",
     "output_type": "stream",
     "text": [
      "10000000000000000000000000000000000000000\n"
     ]
    }
   ],
   "source": [
    "# Raise 10 to the power of 40\n",
    "x=10**40\n",
    "print(x)"
   ]
  },
  {
   "cell_type": "code",
   "execution_count": 7,
   "id": "e5b5e304",
   "metadata": {},
   "outputs": [],
   "source": [
    "# Define a variable called Currentyear and assign a value to it\n",
    "\n",
    "Currentyear = 24\n",
    "currentyear =  24"
   ]
  },
  {
   "cell_type": "code",
   "execution_count": 8,
   "id": "512c98aa",
   "metadata": {},
   "outputs": [],
   "source": [
    "# Define a variable called my_integer and assign a value 25 to it\n",
    "\n",
    "my_integer = 25"
   ]
  },
  {
   "cell_type": "code",
   "execution_count": 9,
   "id": "28fbeb8c",
   "metadata": {},
   "outputs": [
    {
     "name": "stdout",
     "output_type": "stream",
     "text": [
      "23\n"
     ]
    }
   ],
   "source": [
    "# Define a variable called age and assign the value 23 and print the result using print()\n",
    "\n",
    "\n",
    "age=23\n",
    "print(age)"
   ]
  },
  {
   "cell_type": "code",
   "execution_count": 11,
   "id": "fb5e88a7",
   "metadata": {},
   "outputs": [
    {
     "name": "stdout",
     "output_type": "stream",
     "text": [
      "<class 'int'>\n"
     ]
    }
   ],
   "source": [
    "# now print the type of the age variable using the type() function\n",
    "\n",
    "print(type(age))"
   ]
  },
  {
   "cell_type": "code",
   "execution_count": 14,
   "id": "e1a3c616",
   "metadata": {},
   "outputs": [
    {
     "name": "stdout",
     "output_type": "stream",
     "text": [
      "24\n",
      "<class 'int'>\n",
      "35.5\n",
      "<class 'float'>\n"
     ]
    }
   ],
   "source": [
    "# now assign new float variable [float means no with decimal value] to the age \n",
    "\n",
    "\n",
    "print(currentyear)\n",
    "# then print its type()\n",
    "print(type(currentyear))\n",
    "\n",
    "age= 35.5\n",
    "print(age)\n",
    "print(type(age))\n"
   ]
  },
  {
   "cell_type": "code",
   "execution_count": 6,
   "id": "2e68e8ae",
   "metadata": {},
   "outputs": [],
   "source": [
    "# Create 3 different variable and store any values you like\n",
    "\n",
    "# make sure to use camelCase, Pascal and Snake_case\n"
   ]
  },
  {
   "cell_type": "markdown",
   "id": "5f6f388d",
   "metadata": {},
   "source": [
    "# Write in markdown about three takeaway from your python and datascience class\n",
    "\n",
    "Our class starts ususally at 5:30 in the evening.\n",
    "    Our instructor is Mala Deep Upadhyaya.\n",
    "    The mode of teaching is online."
   ]
  },
  {
   "cell_type": "code",
   "execution_count": null,
   "id": "5cb2a37d",
   "metadata": {},
   "outputs": [],
   "source": []
  }
 ],
 "metadata": {
  "kernelspec": {
   "display_name": "Python 3 (ipykernel)",
   "language": "python",
   "name": "python3"
  },
  "language_info": {
   "codemirror_mode": {
    "name": "ipython",
    "version": 3
   },
   "file_extension": ".py",
   "mimetype": "text/x-python",
   "name": "python",
   "nbconvert_exporter": "python",
   "pygments_lexer": "ipython3",
   "version": "3.11.7"
  }
 },
 "nbformat": 4,
 "nbformat_minor": 5
}
