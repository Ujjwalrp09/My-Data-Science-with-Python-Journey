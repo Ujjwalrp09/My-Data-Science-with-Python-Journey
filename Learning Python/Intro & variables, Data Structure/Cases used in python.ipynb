{
 "cells": [
  {
   "cell_type": "markdown",
   "id": "2a292252",
   "metadata": {},
   "source": [
    "### Create a variable to store the user's first name using snake_case."
   ]
  },
  {
   "cell_type": "code",
   "execution_count": 5,
   "id": "facc40e0",
   "metadata": {},
   "outputs": [],
   "source": [
    "first_name = \"Ujjwal\" #snake_case technique is followed while assigning a variable."
   ]
  },
  {
   "cell_type": "markdown",
   "id": "374912c5",
   "metadata": {},
   "source": [
    "### Give 2 examples of invalid naming convention in python."
   ]
  },
  {
   "cell_type": "code",
   "execution_count": 7,
   "id": "09727d79",
   "metadata": {},
   "outputs": [
    {
     "ename": "SyntaxError",
     "evalue": "invalid decimal literal (994330874.py, line 3)",
     "output_type": "error",
     "traceback": [
      "\u001b[1;36m  Cell \u001b[1;32mIn[7], line 3\u001b[1;36m\u001b[0m\n\u001b[1;33m    1middlename = \"Raj\"\u001b[0m\n\u001b[1;37m    ^\u001b[0m\n\u001b[1;31mSyntaxError\u001b[0m\u001b[1;31m:\u001b[0m invalid decimal literal\n"
     ]
    }
   ],
   "source": [
    "last-name = \"Poudel\" #kebab_case technique is followed while assigning a variable.\n",
    "\n",
    "1middlename = \"Raj\" #a variable is declared starting with a whole number."
   ]
  },
  {
   "cell_type": "markdown",
   "id": "dbb39d46",
   "metadata": {},
   "source": [
    "### Using special character create a variable to store age of the person using PascalCase"
   ]
  },
  {
   "cell_type": "code",
   "execution_count": 8,
   "id": "a5a752a6",
   "metadata": {},
   "outputs": [],
   "source": [
    "AgeOfThePerson = 25"
   ]
  },
  {
   "cell_type": "markdown",
   "id": "f7b724dc",
   "metadata": {},
   "source": [
    "### Create a variable using alphabet and number to store a value for salary using CamelCase."
   ]
  },
  {
   "cell_type": "code",
   "execution_count": 1,
   "id": "613a9a07",
   "metadata": {},
   "outputs": [],
   "source": [
    "salaryJune06 = 40000"
   ]
  },
  {
   "cell_type": "code",
   "execution_count": 2,
   "id": "be627c15",
   "metadata": {},
   "outputs": [
    {
     "name": "stdout",
     "output_type": "stream",
     "text": [
      "Hello\n",
      "World!\n",
      "Hlo\n",
      "Hl r!\n",
      "!dlroW ,olleH\n"
     ]
    }
   ],
   "source": [
    "message = \"Hello, World!\"\n",
    "\n",
    "# Slicing from index 0 to 5 (exclusive)\n",
    "substring1 = message[0:5]\n",
    "print(substring1)  # Output: Hello\n",
    "\n",
    "# Slicing from index 7 to the end of the string\n",
    "substring2 = message[7:]\n",
    "print(substring2)  # Output: World!\n",
    "\n",
    "# Slicing from the beginning to index 5 (exclusive) with a step of 2 (including that also)\n",
    "substring3 = message[:5:2]\n",
    "print(substring3)  # Output: Hlo\n",
    "\n",
    "# Slicing the entire string with a step of 3\n",
    "substring4 = message[::3]\n",
    "print(substring4)  # Output: Hl r!\n",
    "\n",
    "# Reversing the string using slicing with a step of -1\n",
    "reversed_message = message[::-1]\n",
    "print(reversed_message)  # Output: !dlroW ,olleH\n"
   ]
  },
  {
   "cell_type": "code",
   "execution_count": 3,
   "id": "227426d7",
   "metadata": {},
   "outputs": [
    {
     "name": "stdout",
     "output_type": "stream",
     "text": [
      "Hello\n"
     ]
    }
   ],
   "source": [
    "message = \"Hello, World!\"\n",
    "substring1 = message[0:5]\n",
    "print(substring1)"
   ]
  },
  {
   "cell_type": "code",
   "execution_count": 4,
   "id": "b75f44c2",
   "metadata": {},
   "outputs": [
    {
     "name": "stdout",
     "output_type": "stream",
     "text": [
      "World!\n"
     ]
    }
   ],
   "source": [
    "substring2 = message[7:]\n",
    "print(substring2)"
   ]
  },
  {
   "cell_type": "code",
   "execution_count": 5,
   "id": "b90c9f54",
   "metadata": {},
   "outputs": [
    {
     "name": "stdout",
     "output_type": "stream",
     "text": [
      "Hlo\n"
     ]
    }
   ],
   "source": [
    "substring3 = message[:5:2]\n",
    "print(substring3)"
   ]
  },
  {
   "cell_type": "code",
   "execution_count": 8,
   "id": "4974247f",
   "metadata": {},
   "outputs": [
    {
     "name": "stdout",
     "output_type": "stream",
     "text": [
      "Hoo\n"
     ]
    }
   ],
   "source": [
    "substring4 = message[0:9:4]\n",
    "print(substring4)"
   ]
  },
  {
   "cell_type": "code",
   "execution_count": 7,
   "id": "ffcb16c0",
   "metadata": {},
   "outputs": [
    {
     "name": "stdout",
     "output_type": "stream",
     "text": [
      "!dlroW ,olleH\n"
     ]
    }
   ],
   "source": [
    "reversed_message = message[::-1]\n",
    "print(reversed_message)"
   ]
  },
  {
   "cell_type": "code",
   "execution_count": 14,
   "id": "d61a4108",
   "metadata": {},
   "outputs": [
    {
     "name": "stdout",
     "output_type": "stream",
     "text": [
      "\n"
     ]
    }
   ],
   "source": [
    "example_string = \"This is an example string\"\n",
    "print(example_string[-12:-7])"
   ]
  },
  {
   "cell_type": "code",
   "execution_count": 23,
   "id": "4bf08d4c",
   "metadata": {},
   "outputs": [
    {
     "name": "stdout",
     "output_type": "stream",
     "text": [
      "[1, 2, 3, 4, 66]\n"
     ]
    }
   ],
   "source": [
    "numbers = [1,2,3,4,5]\n",
    "numbers[4] = 66\n",
    "print(numbers)"
   ]
  },
  {
   "cell_type": "code",
   "execution_count": null,
   "id": "52852623",
   "metadata": {},
   "outputs": [],
   "source": []
  }
 ],
 "metadata": {
  "kernelspec": {
   "display_name": "Python 3 (ipykernel)",
   "language": "python",
   "name": "python3"
  },
  "language_info": {
   "codemirror_mode": {
    "name": "ipython",
    "version": 3
   },
   "file_extension": ".py",
   "mimetype": "text/x-python",
   "name": "python",
   "nbconvert_exporter": "python",
   "pygments_lexer": "ipython3",
   "version": "3.11.7"
  }
 },
 "nbformat": 4,
 "nbformat_minor": 5
}
