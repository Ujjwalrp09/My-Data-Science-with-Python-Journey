{
 "cells": [
  {
   "cell_type": "markdown",
   "id": "7c6627e5",
   "metadata": {},
   "source": [
    "## Data Structure Task\n",
    "![](https://devopedia.org/images/article/41/8174.1595680354.png)\n",
    "\n",
    "\n",
    "\n"
   ]
  },
  {
   "cell_type": "markdown",
   "id": "21cf4040",
   "metadata": {},
   "source": [
    "# List"
   ]
  },
  {
   "cell_type": "code",
   "execution_count": 73,
   "id": "80157d46",
   "metadata": {},
   "outputs": [
    {
     "name": "stdout",
     "output_type": "stream",
     "text": [
      "['apple', 'mango', 'orange', 'grape', 'banana']\n",
      "['mango', 'orange', 'grape', 'banana']\n"
     ]
    }
   ],
   "source": [
    "# Creation: Create a list of your favorite fruits\n",
    "\n",
    "my_favorite_fruits = [\"apple\",\"mango\",\"peach\",\"grape\",\"banana\"]\n",
    "\n",
    "# Access: Access the second item in the list.\n",
    "\n",
    "my_favorite_fruits[1]\n",
    "\n",
    "# Update: Change the third item to \"orange\".\n",
    "\n",
    "my_favorite_fruits[2] = \"orange\"\n",
    "print(my_favorite_fruits)\n",
    "\n",
    "#Remove: Remove the first item from the list.\n",
    "my_favorite_fruits.remove(\"apple\")\n",
    "print(my_favorite_fruits)"
   ]
  },
  {
   "cell_type": "markdown",
   "id": "060b720b",
   "metadata": {},
   "source": [
    "# Tuples"
   ]
  },
  {
   "cell_type": "code",
   "execution_count": 65,
   "id": "2b40264b",
   "metadata": {},
   "outputs": [
    {
     "ename": "SyntaxError",
     "evalue": "invalid syntax (544573003.py, line 11)",
     "output_type": "error",
     "traceback": [
      "\u001b[1;36m  Cell \u001b[1;32mIn[65], line 11\u001b[1;36m\u001b[0m\n\u001b[1;33m    Tuple is immutable which means we cannot modify the elements after assigning it.\u001b[0m\n\u001b[1;37m                       ^\u001b[0m\n\u001b[1;31mSyntaxError\u001b[0m\u001b[1;31m:\u001b[0m invalid syntax\n"
     ]
    }
   ],
   "source": [
    "# Creation: Create a tuple with three different colors.\n",
    "my_favorite_color = (\"black\",\"blue\",\"white\")\n",
    "# Access: Access the third item in the tuple.\n",
    "my_favorite_color[2]\n",
    "\n",
    "# Update: Try to change the second item to \"yellow\" and observe what happens. Expect something error\n",
    "my_favorite_color[1]=\"yellow\"\n",
    "print(my_favorite_color)\n",
    "\n",
    "# Remove: Give reason why you can or can't\n",
    "Tuple is immutable which means we cannot modify the elements after assigning it."
   ]
  },
  {
   "cell_type": "markdown",
   "id": "d9af3178",
   "metadata": {},
   "source": [
    "# SET"
   ]
  },
  {
   "cell_type": "code",
   "execution_count": 66,
   "id": "c38b08db",
   "metadata": {},
   "outputs": [
    {
     "name": "stdout",
     "output_type": "stream",
     "text": [
      "{'The Forest Gump', 'The shawshank redemption', 'A million ways to die in the west'}\n"
     ]
    }
   ],
   "source": [
    "# Creation: Create a set of your favorite movies\n",
    "\n",
    "my_favorite_movie = {\"The shawshank redemption\",\"A million ways to die in the west\",\"The Forest Gump\"}\n",
    "print(my_favorite_movie)\n",
    "\n",
    "# Access: Check if your \"Toy Car\" is in the set.\n",
    "\n",
    "# Update: Add \"Miracle in Cell\" to the set.\n",
    "\n",
    "# Remove: Remove your least favorite movies."
   ]
  },
  {
   "cell_type": "code",
   "execution_count": 75,
   "id": "f894c110",
   "metadata": {},
   "outputs": [
    {
     "name": "stdout",
     "output_type": "stream",
     "text": [
      "False\n"
     ]
    }
   ],
   "source": [
    "# Access: Check if your \"Toy Car\" is in the set.\n",
    "\n",
    "print(\"Toy car\" in my_favorite_movie)"
   ]
  },
  {
   "cell_type": "code",
   "execution_count": 77,
   "id": "09252724",
   "metadata": {},
   "outputs": [
    {
     "name": "stdout",
     "output_type": "stream",
     "text": [
      "{'The shawshank redemption', 'Miracle in cell', 'A million ways to die in the west'}\n"
     ]
    }
   ],
   "source": [
    "# Update: Add \"Miracle in Cell\" to the set.\n",
    "\n",
    "my_favorite_movie.add(\"Miracle in cell\")\n",
    "print(my_favorite_movie)"
   ]
  },
  {
   "cell_type": "code",
   "execution_count": 69,
   "id": "75304d5d",
   "metadata": {},
   "outputs": [
    {
     "name": "stdout",
     "output_type": "stream",
     "text": [
      "{'The shawshank redemption', 'Miracle in cell', 'A million ways to die in the west'}\n"
     ]
    }
   ],
   "source": [
    "my_favorite_movie.remove(\"The Forest Gump\")\n",
    "print(my_favorite_movie)"
   ]
  },
  {
   "cell_type": "markdown",
   "id": "77344d89",
   "metadata": {},
   "source": [
    "# Dictionary"
   ]
  },
  {
   "cell_type": "code",
   "execution_count": 53,
   "id": "02ece1f6",
   "metadata": {},
   "outputs": [
    {
     "name": "stdout",
     "output_type": "stream",
     "text": [
      "{'name': 'Ujjwal', 'age': 25, 'city': 'Pokhara'}\n"
     ]
    }
   ],
   "source": [
    "# Creation: Create a dictionary with three key-value pairs representing a person's details (e.g., name, age, city).\n",
    "\n",
    "my_personal_details = {\"name\": \"Ujjwal\",\"age\": 25,\"city\": \"Pokhara\"}\n",
    "print(my_personal_details)"
   ]
  },
  {
   "cell_type": "code",
   "execution_count": 54,
   "id": "7ba74061",
   "metadata": {},
   "outputs": [
    {
     "name": "stdout",
     "output_type": "stream",
     "text": [
      "25\n"
     ]
    }
   ],
   "source": [
    "# Access: Access the person's age.\n",
    "\n",
    "print(my_personal_details[\"age\"])"
   ]
  },
  {
   "cell_type": "code",
   "execution_count": 1,
   "id": "88b7c644",
   "metadata": {},
   "outputs": [
    {
     "ename": "NameError",
     "evalue": "name 'my_personal_details' is not defined",
     "output_type": "error",
     "traceback": [
      "\u001b[1;31m---------------------------------------------------------------------------\u001b[0m",
      "\u001b[1;31mNameError\u001b[0m                                 Traceback (most recent call last)",
      "Cell \u001b[1;32mIn[1], line 2\u001b[0m\n\u001b[0;32m      1\u001b[0m \u001b[38;5;66;03m# Update: Update the person's city to \"Los Angeles\".\u001b[39;00m\n\u001b[1;32m----> 2\u001b[0m my_personal_details[\u001b[38;5;124m\"\u001b[39m\u001b[38;5;124mcity\u001b[39m\u001b[38;5;124m\"\u001b[39m]\u001b[38;5;241m=\u001b[39m\u001b[38;5;124m\"\u001b[39m\u001b[38;5;124mLos Angeles\u001b[39m\u001b[38;5;124m\"\u001b[39m\n\u001b[0;32m      3\u001b[0m \u001b[38;5;28mprint\u001b[39m(my_personal_details)\n",
      "\u001b[1;31mNameError\u001b[0m: name 'my_personal_details' is not defined"
     ]
    }
   ],
   "source": [
    "# Update: Update the person's city to \"Los Angeles\".\n",
    "my_personal_details[\"city\"]=\"Los Angeles\"\n",
    "print(my_personal_details)"
   ]
  },
  {
   "cell_type": "code",
   "execution_count": 74,
   "id": "dbf292c0",
   "metadata": {},
   "outputs": [
    {
     "ename": "KeyError",
     "evalue": "'age'",
     "output_type": "error",
     "traceback": [
      "\u001b[1;31m---------------------------------------------------------------------------\u001b[0m",
      "\u001b[1;31mKeyError\u001b[0m                                  Traceback (most recent call last)",
      "Cell \u001b[1;32mIn[74], line 3\u001b[0m\n\u001b[0;32m      1\u001b[0m \u001b[38;5;66;03m# Remove: Remove the age key-value pair from the dictionary.\u001b[39;00m\n\u001b[1;32m----> 3\u001b[0m \u001b[38;5;28;01mdel\u001b[39;00m my_personal_details[\u001b[38;5;124m\"\u001b[39m\u001b[38;5;124mage\u001b[39m\u001b[38;5;124m\"\u001b[39m]\n\u001b[0;32m      4\u001b[0m \u001b[38;5;28mprint\u001b[39m(my_personal_details)\n",
      "\u001b[1;31mKeyError\u001b[0m: 'age'"
     ]
    }
   ],
   "source": [
    "# Remove: Remove the age key-value pair from the dictionary.\n",
    "\n",
    "del my_personal_details[\"age\"]\n",
    "print(my_personal_details)"
   ]
  },
  {
   "cell_type": "markdown",
   "id": "500d56c1",
   "metadata": {},
   "source": [
    "# List Compression"
   ]
  },
  {
   "cell_type": "code",
   "execution_count": 62,
   "id": "24463269",
   "metadata": {},
   "outputs": [
    {
     "name": "stdout",
     "output_type": "stream",
     "text": [
      "[1, 4, 9, 16, 25, 36, 49, 64, 81, 100]\n"
     ]
    }
   ],
   "source": [
    "# Create a list of squares of numbers from 1 to 10.\n",
    "numbers = [1,2,3,4,5,6,7,8,9,10]\n",
    "squares = [num ** 2 for num in numbers]\n",
    "print(squares)"
   ]
  },
  {
   "cell_type": "code",
   "execution_count": 2,
   "id": "045e1139",
   "metadata": {},
   "outputs": [
    {
     "name": "stdout",
     "output_type": "stream",
     "text": [
      "['HELLO', 'WORLD', 'PYTHON', 'LIST', 'COMPREHENSION']\n"
     ]
    }
   ],
   "source": [
    ",# Explain in the markdown what is happening in this code\n",
    "\n",
    "words = [\"hello\", \"world\", \"python\", \"list\", \"comprehension\"]\n",
    "uppercase_words = [word.upper() for word in words]\n",
    "print(uppercase_words)"
   ]
  },
  {
   "cell_type": "markdown",
   "id": "1ef19805",
   "metadata": {},
   "source": [
    "All the string values stored in variable name \"words\" is changed into uppercase."
   ]
  },
  {
   "cell_type": "markdown",
   "id": "ba2862ba",
   "metadata": {},
   "source": [
    "> Submit to the email"
   ]
  },
  {
   "cell_type": "markdown",
   "id": "ec934c15",
   "metadata": {},
   "source": [
    "Recommended Reading\n",
    "\n",
    "https://www.stationx.net/python-data-structures-cheat-sheet/"
   ]
  },
  {
   "cell_type": "code",
   "execution_count": null,
   "id": "14f2d037",
   "metadata": {},
   "outputs": [],
   "source": []
  }
 ],
 "metadata": {
  "kernelspec": {
   "display_name": "Python 3 (ipykernel)",
   "language": "python",
   "name": "python3"
  },
  "language_info": {
   "codemirror_mode": {
    "name": "ipython",
    "version": 3
   },
   "file_extension": ".py",
   "mimetype": "text/x-python",
   "name": "python",
   "nbconvert_exporter": "python",
   "pygments_lexer": "ipython3",
   "version": "3.11.7"
  }
 },
 "nbformat": 4,
 "nbformat_minor": 5
}
