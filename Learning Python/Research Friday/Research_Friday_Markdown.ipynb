{
 "cells": [
  {
   "cell_type": "markdown",
   "id": "fe416042",
   "metadata": {},
   "source": [
    "# *WhatIhavelearnttilldate*"
   ]
  },
  {
   "cell_type": "markdown",
   "id": "5941969d",
   "metadata": {},
   "source": [
    "# *Introduction*   \n",
    "I am ***Ujjwal Raj Poudel***. I am from **Pokhara** and I completed my bachelors from **Kathmandu University**. You can access [My linkedin profile](https://www.linkedin.com/in/ujjwal-raj-poudel-6ba5a2238/) over here. The thorongla pass image is attached over here ![Thorongla Pass](https://assets-excellenttrek.b-cdn.net/wp-content/uploads/2021/05/Thorong-La-Pass-Trek.jpg)that I desire to trek in the near future. Talking about Thorongla Pass i remembered one quote about **LOVE** from **_Bob Marley_** :\n",
    ">\"You say you love rain, but you use an umbrella to walk under it. You say you love sun, but you seek shelter when it is shining. You say you love wind, but when it comes you close your windows. So that's why I'm scared when you say you love me.\"\n",
    "\n",
    "I know we did talked about love in between my desired destination trek. Here is the itirenary that i have planned:\n",
    "* Day 01: Travel to Besi sahar, 200KM, 4–5 hours by tourist bus, and continues drive to Chame (2713 m) 5-6 hours by Jeep, overnight at hotel Eagle Eye or Marshangdi Mandala or similar hotel.\n",
    "<br>\n",
    "\n",
    "* Day 02: Chame to Upper Pisang (3115 m) 4–5 hours, overnight at Hotel Manang Marshangdi or similar hotel.\n",
    "<br>\n",
    "\n",
    "* Day 03: Upper Pisang to Manang (3450 m) 5-6 hours, use upper part off-road, overnight at Mountain Lake Resort or similar hotel.\n",
    "<br>\n",
    "\n",
    "* Day 04: Rest day in Manang for Acclimatization, overnight at Mountain Lake Resort or similar hotel .\n",
    "<br>\n",
    "\n",
    "* Day 05: Manang trek to Yak Kharka (4200 m) 4 hours, overnight at Hotel Gangapurna or similar hotel.\n",
    "<br>\n",
    "\n",
    "* Day 06: Yak Kharka trek to Thorong Phedi (4450 m) or High camp (4850 m), 4.30 hours, overnight at Thorong-La Phedi Guest house or similar hotel.\n",
    "\n",
    "\n",
    "* Day 07: Trekking to Muktinath - the hardest day to cross Thorong La Pass (5416m) continues trek to Muktinath (3800 m) 6/8 hours, overnight Annapurna Inn or Bob Marley or similar hotel.\n",
    "\n",
    "\n",
    "\n",
    "* Day 08: Trekking to Jomsom (2730 m), 5 hours trekking, overnight at Hotel Majestic.\n",
    "\n",
    "\n",
    "\n",
    "* Day 09: Jomsom to Pokhara by Bus/Jeep, 8–10 hours, overnight at 2-3 star hotel.  \n",
    "\n",
    "\n",
    "#### **About Markdown:**  \n",
    "I find it quite useful in developing a profile page of any _URL_. All essential details to be shown at the homepage can be managed via markdown.\n"
   ]
  },
  {
   "cell_type": "markdown",
   "id": "9a3e7ee1",
   "metadata": {},
   "source": [
    "# Below is the code to find the modulus.\n",
    "```\n",
    "x=31\n",
    "y=3\n",
    "z=x%y\n",
    "print(z)\n",
    "```"
   ]
  },
  {
   "cell_type": "markdown",
   "id": "99ad977c",
   "metadata": {},
   "source": [
    "print(\"Hello World\")"
   ]
  },
  {
   "cell_type": "code",
   "execution_count": null,
   "id": "4fbbd818",
   "metadata": {},
   "outputs": [],
   "source": []
  }
 ],
 "metadata": {
  "kernelspec": {
   "display_name": "Python 3 (ipykernel)",
   "language": "python",
   "name": "python3"
  },
  "language_info": {
   "codemirror_mode": {
    "name": "ipython",
    "version": 3
   },
   "file_extension": ".py",
   "mimetype": "text/x-python",
   "name": "python",
   "nbconvert_exporter": "python",
   "pygments_lexer": "ipython3",
   "version": "3.11.7"
  }
 },
 "nbformat": 4,
 "nbformat_minor": 5
}
