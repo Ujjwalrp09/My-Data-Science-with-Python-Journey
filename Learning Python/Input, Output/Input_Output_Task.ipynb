{
 "cells": [
  {
   "cell_type": "markdown",
   "id": "3c81961c",
   "metadata": {},
   "source": [
    "We completed Intro, Variables, Data structure, Functions now lets learn the how we read and write data in Python"
   ]
  },
  {
   "cell_type": "markdown",
   "id": "2388a778",
   "metadata": {},
   "source": [
    "# Input Output\n",
    "\n",
    "* I/O (Input/Output) in Python refers to the process of interacting with external sources of data, such as reading input from the user or files, and writing output to the console or files. \n",
    "\n",
    "* Python provides several built-in functions and modules to perform various types of I/O operations. "
   ]
  },
  {
   "cell_type": "markdown",
   "id": "f0110e5d",
   "metadata": {},
   "source": [
    "## Standard Input and Output:\n",
    "\n",
    "* input(): Reads input from the user as a string.\n",
    "* print(): Outputs text or variables to the console."
   ]
  },
  {
   "cell_type": "markdown",
   "id": "5f0b093c",
   "metadata": {},
   "source": [
    "# which of the keyword is used to output the information?\n",
    "print()"
   ]
  },
  {
   "cell_type": "code",
   "execution_count": null,
   "id": "f7b27046",
   "metadata": {},
   "outputs": [],
   "source": [
    "name = input(\"Enter your name: \")\n",
    "print(\"Hello, \"+ name  + \"!\")  # + = additon , contatenation\n",
    " "
   ]
  },
  {
   "cell_type": "markdown",
   "id": "eb40bfdd",
   "metadata": {},
   "source": [
    "## User Input"
   ]
  },
  {
   "cell_type": "code",
   "execution_count": null,
   "id": "384dcd8a",
   "metadata": {},
   "outputs": [],
   "source": [
    "prompt = 'What is your trainer name?'\n",
    "\n",
    "\n",
    "answer = input(prompt)\n",
    "\n",
    "\n",
    "print(\"Your's trainer name is\", answer,'.', \"\\nWaaa\")"
   ]
  },
  {
   "cell_type": "markdown",
   "id": "1f84ad62",
   "metadata": {},
   "source": [
    "## File I/O: ( file handling)\n",
    "\n",
    "* open(): Opens a file and returns a file object.\n",
    "* read(), readline(), readlines(): Reads data from a file.\n",
    "* write(), writelines(): Writes data to a file.\n",
    "* close(): Closes a file.\n"
   ]
  },
  {
   "cell_type": "code",
   "execution_count": null,
   "id": "3a554ec7",
   "metadata": {},
   "outputs": [],
   "source": [
    "# Reading\n",
    "file = open(\"otbs.txt\", \"r\") #read mode\n",
    "content = file.read()\n",
    "print(content)\n",
    "file.close()\n"
   ]
  },
  {
   "cell_type": "markdown",
   "id": "d0b1e1b0",
   "metadata": {},
   "source": [
    "### Writing to File"
   ]
  },
  {
   "cell_type": "code",
   "execution_count": null,
   "id": "6db95422",
   "metadata": {},
   "outputs": [],
   "source": [
    "# Example - Writing to a file:\n",
    "file = open(\"otbsss.txt\", \"w\") # write mode - auto mode file --> chena file create\n",
    "file.write(\"This is some content. k cha\")\n",
    "file.close()"
   ]
  },
  {
   "cell_type": "markdown",
   "id": "11b88b0f",
   "metadata": {},
   "source": [
    "With this you would have new file created in your system called output.txt"
   ]
  },
  {
   "cell_type": "markdown",
   "id": "d7eedb19",
   "metadata": {},
   "source": [
    "### Working with Files using `with Statement`:\n",
    "\n",
    "The with statement in Python is a more convenient way to open and work with files. It automatically takes care of closing the file, even if an exception occurs."
   ]
  },
  {
   "cell_type": "code",
   "execution_count": null,
   "id": "275b9c75",
   "metadata": {},
   "outputs": [],
   "source": [
    "import math as hhjj\n",
    "\n",
    "print(m.pi)\n"
   ]
  },
  {
   "cell_type": "code",
   "execution_count": null,
   "id": "debd3394",
   "metadata": {},
   "outputs": [],
   "source": [
    "# Reading\n",
    "file = open(\"sample.txt\", \"r\") # mode read\n",
    "content = file.read()\n",
    "print(content)\n",
    "file.close()\n"
   ]
  },
  {
   "cell_type": "code",
   "execution_count": null,
   "id": "6912ff4d",
   "metadata": {},
   "outputs": [],
   "source": [
    "with open(\"sample.txt\", \"r\") as file:\n",
    "    content = file.read()\n",
    "    print(content)\n",
    "    \n",
    "print(content)    "
   ]
  },
  {
   "cell_type": "markdown",
   "id": "bd7290f0",
   "metadata": {},
   "source": [
    "## Formatting Output\n",
    "\n",
    "It allows you to represent data in a specific format and combine it with text or other variables. \n",
    "\n",
    "Python offers various string formatting methods that provide flexibility and readability.\n",
    "\n",
    "Here are three commonly used string formatting methods:\n"
   ]
  },
  {
   "cell_type": "markdown",
   "id": "8fa048b9",
   "metadata": {},
   "source": [
    " #### The % Operator:\n",
    " \n",
    "The % operator allows you to format strings by using placeholders and providing values to substitute those placeholders.\n"
   ]
  },
  {
   "cell_type": "code",
   "execution_count": null,
   "id": "c5833000",
   "metadata": {},
   "outputs": [],
   "source": [
    "a = \"K cha\"\n",
    "print(\"Your answr is:\",a)"
   ]
  },
  {
   "cell_type": "code",
   "execution_count": null,
   "id": "6795aabb",
   "metadata": {},
   "outputs": [],
   "source": [
    "name = \"Alice\" \n",
    "age = 25\n",
    "print(\"My name is %s and I am %d years old %s.\" %(name, age, name))\n"
   ]
  },
  {
   "cell_type": "markdown",
   "id": "2079f11f",
   "metadata": {},
   "source": [
    "In this example, %s is a placeholder for a string,\n",
    "\n",
    "and %d is a placeholder for an integer.\n",
    "\n",
    "The values for these placeholders are provided after the % operator in a tuple.\n"
   ]
  },
  {
   "cell_type": "markdown",
   "id": "4aafe03d",
   "metadata": {},
   "source": [
    "#### Using the str.format() Method\n",
    "\n",
    "The str.format() method allows you to format strings by using placeholders enclosed in curly braces {}. \n",
    "\n",
    "You can provide values to substitute these placeholders using the format() method."
   ]
  },
  {
   "cell_type": "code",
   "execution_count": null,
   "id": "6db467f7",
   "metadata": {},
   "outputs": [],
   "source": [
    "name = \"Alice\"\n",
    "age = 25\n",
    "\n",
    "\n",
    "print(\"My name is {} and I am {} {}years old.\".format(age, name))\n"
   ]
  },
  {
   "cell_type": "markdown",
   "id": "54f9036d",
   "metadata": {},
   "source": [
    "In this example, {} serves as a placeholder, and the values for these placeholders are provided in the format() method in the order they appear in the string."
   ]
  },
  {
   "cell_type": "code",
   "execution_count": null,
   "id": "97d1af6a",
   "metadata": {},
   "outputs": [],
   "source": [
    "pi = 3.14159\n",
    "formatted_string = \"The value of pi is {:.1f}\".format(pi)\n",
    "\n",
    "\n",
    "formatted_string\n"
   ]
  },
  {
   "cell_type": "markdown",
   "id": "eeebeb93",
   "metadata": {},
   "source": [
    "{pi:.2f} tells Python to format the value of pi as a floating-point number with exactly two decimal places."
   ]
  },
  {
   "cell_type": "code",
   "execution_count": null,
   "id": "965a01fc",
   "metadata": {},
   "outputs": [],
   "source": [
    "decimal_number = 123.456789\n",
    "formatted_string = \"The number is {:.6f}\".format(decimal_number)\n",
    "formatted_string"
   ]
  },
  {
   "cell_type": "code",
   "execution_count": null,
   "id": "906d2cb6",
   "metadata": {},
   "outputs": [],
   "source": [
    "decimal_number = 123\n",
    "formatted_string = \"The number is {}\".format(decimal_number)\n",
    "formatted_string"
   ]
  },
  {
   "cell_type": "markdown",
   "id": "2e09aad1",
   "metadata": {},
   "source": [
    "\n",
    "#### Using f-strings (formatted string literals):\n",
    "f-strings provide a concise and convenient way to format strings by prefixing the string with f and using curly braces {} to enclose expressions or variables to be evaluated and substituted.\n",
    "Example:"
   ]
  },
  {
   "cell_type": "code",
   "execution_count": null,
   "id": "de859627",
   "metadata": {},
   "outputs": [],
   "source": []
  },
  {
   "cell_type": "code",
   "execution_count": null,
   "id": "55b00b1d",
   "metadata": {},
   "outputs": [],
   "source": [
    "name = \"Alice\"\n",
    "age = 25.98998\n",
    "age = round(age,2)\n",
    "\n",
    "print(f\"My name is {name} and I am {age} years old.\")\n"
   ]
  },
  {
   "cell_type": "markdown",
   "id": "5a878c93",
   "metadata": {},
   "source": [
    "> Now exercise time"
   ]
  },
  {
   "cell_type": "markdown",
   "id": "94479327",
   "metadata": {},
   "source": [
    "# Your Turn"
   ]
  },
  {
   "cell_type": "markdown",
   "id": "b957c91f",
   "metadata": {},
   "source": [
    "### Q1:  Write a Python program that asks the user for their name and age, then prints a greeting message in the format: \"Hello [name]! You are [age] years old.\"\n"
   ]
  },
  {
   "cell_type": "code",
   "execution_count": null,
   "id": "f02065f3",
   "metadata": {},
   "outputs": [],
   "source": [
    "name = input(\"Enter your name: \") #user is asked to enter their name\n",
    "\n",
    "age = input(\"Enter your age: \") #user is asked to enter their age\n",
    "\n",
    "print(f\"Hello {name}! You are {age} years old.\") #print the greeting message\n"
   ]
  },
  {
   "cell_type": "markdown",
   "id": "5a15867f",
   "metadata": {},
   "source": [
    "## Q2: Write a Python program that asks for the user's name, age, and city, then prints the information in the format: \"Name: [name], Age: [age], City: [city]\" usinf f-string formatiing method\n"
   ]
  },
  {
   "cell_type": "code",
   "execution_count": null,
   "id": "bcd4a1a7",
   "metadata": {},
   "outputs": [],
   "source": [
    "name = input(\"Enter your name: \") #user is asked to enter their name\n",
    "\n",
    "age = input(\"Enter your age: \")   #user is asked to enter their age\n",
    "\n",
    "city = input(\"Enter your city: \")  #user is asked to enter their city\n",
    "\n",
    "print(f\"Name: {name}, Age: {age}, City: {city}\") #f-string formatting is used"
   ]
  },
  {
   "cell_type": "markdown",
   "id": "ab0e3e40",
   "metadata": {},
   "source": [
    "## Q3: Write a Python program that asks the user for their short introduction(one paragraph) and writes it to a file named \"user_intor.txt\".\n",
    "### Use With statement"
   ]
  },
  {
   "cell_type": "code",
   "execution_count": null,
   "id": "c1b206e8",
   "metadata": {},
   "outputs": [],
   "source": [
    "Introduction = input(\"Describe about yourself: \") #user is asked for short introduction\n",
    "\n",
    "filename = \"user_intro.txt\"\n",
    "\n",
    "with open(filename,\"w\") as file:\n",
    "    file.write(Introduction)\n",
    "    print(Introduction)\n",
    "\n",
    "\n",
    "\n",
    "\n"
   ]
  },
  {
   "cell_type": "code",
   "execution_count": null,
   "id": "5792e93c",
   "metadata": {},
   "outputs": [],
   "source": []
  }
 ],
 "metadata": {
  "kernelspec": {
   "display_name": "Python 3 (ipykernel)",
   "language": "python",
   "name": "python3"
  },
  "language_info": {
   "codemirror_mode": {
    "name": "ipython",
    "version": 3
   },
   "file_extension": ".py",
   "mimetype": "text/x-python",
   "name": "python",
   "nbconvert_exporter": "python",
   "pygments_lexer": "ipython3",
   "version": "3.11.7"
  }
 },
 "nbformat": 4,
 "nbformat_minor": 5
}
